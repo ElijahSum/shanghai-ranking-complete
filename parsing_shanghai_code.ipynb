{
 "cells": [
  {
   "cell_type": "code",
   "execution_count": 7,
   "id": "e136f98b-9a5e-4592-b455-287fe422cda3",
   "metadata": {},
   "outputs": [],
   "source": [
    "import requests\n",
    "from bs4 import BeautifulSoup \n",
    "import numpy as np\n",
    "import pandas as pd\n",
    "from urllib.request import urlopen\n",
    "import selenium\n",
    "from selenium import webdriver\n",
    "from selenium.webdriver.chrome.options import Options\n",
    "from selenium.webdriver.common.by import By\n",
    "from tqdm import tqdm"
   ]
  },
  {
   "cell_type": "code",
   "execution_count": 8,
   "id": "6a7cf9a4-3278-4f4d-8633-f6ac5f8aa307",
   "metadata": {},
   "outputs": [],
   "source": [
    "DRIVER_PATH = '/Users/ilyasumernikov/Atlas/chromedriver'"
   ]
  },
  {
   "cell_type": "code",
   "execution_count": 19,
   "id": "80b79ca8-01d6-48a9-bfb0-4fd017fab3ed",
   "metadata": {},
   "outputs": [
    {
     "name": "stderr",
     "output_type": "stream",
     "text": [
      "<ipython-input-19-4a6b6a84448f>:4: DeprecationWarning: executable_path has been deprecated, please pass in a Service object\n",
      "  driver = webdriver.Chrome(options=options, executable_path=DRIVER_PATH)\n"
     ]
    }
   ],
   "source": [
    "options = Options()\n",
    "options.headless = True\n",
    "options.add_argument(\"--window-size=1920,1200\")\n",
    "driver = webdriver.Chrome(options=options, executable_path=DRIVER_PATH)"
   ]
  },
  {
   "cell_type": "code",
   "execution_count": 22,
   "id": "d1dcb6ab-547e-492b-b585-7262db76aba8",
   "metadata": {},
   "outputs": [
    {
     "name": "stderr",
     "output_type": "stream",
     "text": [
      "100%|██████████| 20/20 [02:29<00:00,  7.46s/it]\n"
     ]
    }
   ],
   "source": [
    "shanghai_result = pd.DataFrame(columns=['year', 'world_rank', 'institution', 'country_name', 'total_score', 'award'])\n",
    "\n",
    "for j in tqdm(range(2003, 2023)):\n",
    "    universities_final = []\n",
    "    countries_final = []\n",
    "    national_number_final = []\n",
    "    total_score_final = []\n",
    "    award_final = []\n",
    "    world_number_final = []\n",
    "    url = 'https://www.shanghairanking.com/rankings/arwu/' + str(j)\n",
    "    driver.get(url)\n",
    "    soup = BeautifulSoup(driver.page_source, 'lxml')\n",
    "    page_number = int(soup.find_all('li', class_ = 'ant-pagination-item')[-1].get('class')[-1].split('-')[-1])\n",
    "\n",
    "\n",
    "    for i in range(2, page_number + 2):\n",
    "        universities_list = soup.find('table', class_ = 'rk-table').find_all('span', class_ = 'tooltiptext shadow-xs')\n",
    "        universities_results = [universities_list[x].text for x in range(len(universities_list))]\n",
    "        universities_final += universities_results\n",
    "\n",
    "        countries_list = soup.find('table', class_ = 'rk-table').find_all('div', class_ = 'region-img')\n",
    "        countries_results = [str(countries_list[x]).split('/')[-2].split('.')[0] for x in range(len(countries_list))]\n",
    "        countries_final += countries_results\n",
    "\n",
    "        number_list = soup.find('table', class_ = 'rk-table').find_all('td', class_ = '')\n",
    "        national_number_list = soup.find('table', class_ = 'rk-table').find_all('td', class_ = '')\n",
    "        national_number_results = [' '.join(number_list[x].text.split()) for x in range(2, len(number_list), 5)]\n",
    "        national_number_final += national_number_results\n",
    "\n",
    "        total_score_results = [' '.join(number_list[x].text.split()) for x in range(3, len(number_list), 5)]\n",
    "        total_score_final += total_score_results\n",
    "\n",
    "        award_results = [' '.join(number_list[x].text.split()) for x in range(4, len(number_list), 5)]\n",
    "        award_final += award_results\n",
    "\n",
    "        world_number_list = [' '.join(number_list[x].text.split()) for x in range(0, len(number_list), 5)]\n",
    "        world_number_final += world_number_list\n",
    "        try:\n",
    "            button_class = \"ant-pagination-item-\" + str(i)\n",
    "            button = driver.find_element(By.CLASS_NAME, button_class)\n",
    "            # Click the button\n",
    "            button.click()\n",
    "            soup = BeautifulSoup(driver.page_source, 'lxml')\n",
    "        except:\n",
    "            pass\n",
    "    \n",
    "    for k in range(len(universities_final)):\n",
    "        shanghai_result = shanghai_result.append({'year': j,\n",
    "                                          'world_rank': world_number_final[k],\n",
    "                                          'institution': universities_final[k],\n",
    "                                          'country_name': countries_final[k],\n",
    "                                          'total_score': total_score_final[k],\n",
    "                                          'award': award_final[k]}, \n",
    "                                         ignore_index=True)\n",
    "    \n",
    "\n",
    "    \n",
    "    # creating a dataset for each year\n",
    "    shanghai_result_year = pd.DataFrame(columns=['year', 'world_rank', 'institution', 'country_name', 'total_score', 'award'])\n",
    "    for m in range(len(universities_final)):\n",
    "        shanghai_result_year = shanghai_result_year.append({'year': j,\n",
    "                                          'world_rank': world_number_final[m],\n",
    "                                          'institution': universities_final[m],\n",
    "                                          'country_name': countries_final[m],\n",
    "                                          'total_score': total_score_final[m],\n",
    "                                          'award': award_final[m]}, \n",
    "                                         ignore_index=True)\n",
    "    \n",
    "    year_results = 'shanghai_results_' + str(j) + '.csv'\n",
    "    shanghai_result_year.to_csv(year_results)\n",
    "    \n",
    "shanghai_result.to_csv('shanghai_results.csv')"
   ]
  }
 ],
 "metadata": {
  "kernelspec": {
   "display_name": "Python 3",
   "language": "python",
   "name": "python3"
  },
  "language_info": {
   "codemirror_mode": {
    "name": "ipython",
    "version": 3
   },
   "file_extension": ".py",
   "mimetype": "text/x-python",
   "name": "python",
   "nbconvert_exporter": "python",
   "pygments_lexer": "ipython3",
   "version": "3.8.8"
  }
 },
 "nbformat": 4,
 "nbformat_minor": 5
}
